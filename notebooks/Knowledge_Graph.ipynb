{
 "cells": [
  {
   "cell_type": "markdown",
   "source": [
    "# Topic Clustering"
   ],
   "metadata": {
    "collapsed": false
   },
   "id": "a950d99e0d1b6883"
  },
  {
   "cell_type": "code",
   "execution_count": 1,
   "outputs": [],
   "source": [
    "from rec_sys_uni.datasets import datasets as ds\n",
    "from bertopic import BERTopic\n",
    "from umap import UMAP\n",
    "import matplotlib.pyplot as plt\n",
    "import numpy as np\n",
    "import contextualSpellCheck\n",
    "import pandas as pd\n",
    "import spacy\n",
    "from tqdm.auto import tqdm\n",
    "from hdbscan import HDBSCAN\n",
    "from bertopic.vectorizers import ClassTfidfTransformer\n",
    "from sklearn.cluster import KMeans, AgglomerativeClustering\n",
    "import pyLDAvis\n",
    "import pyLDAvis.lda_model as lda\n",
    "from sklearn.decomposition import LatentDirichletAllocation\n",
    "import nltk\n",
    "from nltk.corpus import stopwords\n",
    "from sentence_transformers import SentenceTransformer\n",
    "from keybert import KeyBERT\n",
    "from keyphrase_vectorizers import KeyphraseCountVectorizer\n",
    "from sklearn.metrics.pairwise import cosine_similarity\n",
    "%load_ext autoreload\n",
    "%autoreload 2"
   ],
   "metadata": {
    "collapsed": false,
    "ExecuteTime": {
     "end_time": "2023-12-09T22:28:38.849326800Z",
     "start_time": "2023-12-09T22:28:30.729910200Z"
    }
   },
   "id": "dc1b89cd119b075"
  },
  {
   "cell_type": "code",
   "execution_count": 2,
   "outputs": [
    {
     "data": {
      "text/plain": "True"
     },
     "execution_count": 2,
     "metadata": {},
     "output_type": "execute_result"
    }
   ],
   "source": [
    "# Check Cuda\n",
    "import torch\n",
    "torch.cuda.is_available()"
   ],
   "metadata": {
    "collapsed": false,
    "ExecuteTime": {
     "end_time": "2023-12-09T22:28:39.009325400Z",
     "start_time": "2023-12-09T22:28:38.850325900Z"
    }
   },
   "id": "659d829f11e8bd16"
  },
  {
   "cell_type": "code",
   "execution_count": 9,
   "outputs": [],
   "source": [
    "import os\n",
    "os.chdir(os.getcwd().replace(\"\\\\notebooks\", \"\"))"
   ],
   "metadata": {
    "collapsed": false,
    "ExecuteTime": {
     "end_time": "2023-12-09T22:31:07.142408900Z",
     "start_time": "2023-12-09T22:31:06.974386200Z"
    }
   },
   "id": "ae1bbb53f60bafc6"
  },
  {
   "cell_type": "code",
   "execution_count": 10,
   "outputs": [],
   "source": [
    "# Get Course Data\n",
    "course_data = ds.get_course_data()"
   ],
   "metadata": {
    "collapsed": false,
    "ExecuteTime": {
     "end_time": "2023-12-09T22:31:07.914393100Z",
     "start_time": "2023-12-09T22:31:07.759393800Z"
    }
   },
   "id": "7c996f0723778e41"
  },
  {
   "cell_type": "code",
   "execution_count": null,
   "outputs": [],
   "source": [
    "docs = []\n",
    "title = []\n",
    "for i in course_data:\n",
    "    desc = course_data[i]['course_name'].lower() + '\\n'\n",
    "    desc += course_data[i]['description'].lower().replace('course', course_data[i]['course_name']) + '\\n'\n",
    "    desc += \" \".join(course_data[i]['ilos']).lower().replace('course', course_data[i]['course_name'])\n",
    "    title.append(course_data[i]['course_name'])\n",
    "    docs.append(desc)"
   ],
   "metadata": {
    "collapsed": false
   },
   "id": "64597dbec4a65dd4"
  },
  {
   "cell_type": "code",
   "execution_count": null,
   "outputs": [],
   "source": [
    "nltk.download('stopwords')\n",
    "stop_words = stopwords.words('english')\n",
    "for i in ['student', 'students', 'course', 'courses', 'learning', 'knowledge', 'skills', 'skill', 'understanding', 'understand', 'able', 'use', 'english', 'studies', 'science', 'part', 'one', 'texts', 'text', 'study', 'topics', 'topic', 'basic', 'principles', 'principle', 'introduction', 'introductions', 'introduces', 'introduce', 'introducing', 'provide', 'provides', 'provide', \"education\"]:\n",
    "    stop_words.append(i)"
   ],
   "metadata": {
    "collapsed": false
   },
   "id": "13e9f73aefe3600d"
  },
  {
   "cell_type": "markdown",
   "source": [
    "## Bert Topic\n"
   ],
   "metadata": {
    "collapsed": false
   },
   "id": "d522c369ba84cb1d"
  },
  {
   "cell_type": "markdown",
   "source": [
    "### Sentence Transformer"
   ],
   "metadata": {
    "collapsed": false
   },
   "id": "57f8bf52aca0e125"
  },
  {
   "cell_type": "code",
   "execution_count": null,
   "outputs": [],
   "source": [
    "\"\"\"\n",
    "Asymmetric search:\n",
    "    1. sebastian-hofstaetter/distilbert-dot-tas_b-b256-msmarco  (keyBert, Dot Product)\n",
    "    2. msmarco-distilbert-base-v4 (keyBert, Cosine Similarity)\n",
    "    3. intfloat/e5-large-v2 (keyBert, Cosine Similarity)\n",
    "Symmetric search:\n",
    "    1. all-MiniLM-L12-v2 (keyBert, Cosine Similarity)\n",
    "    2. BAAI/bge-large-en-v1.5\n",
    "\"\"\"\n",
    "sentence_model = SentenceTransformer(\"BAAI/bge-large-en-v1.5\", device='cuda')"
   ],
   "metadata": {
    "collapsed": false
   },
   "id": "77170e5773163f75"
  },
  {
   "cell_type": "markdown",
   "source": [
    "### Dimensionality Reduction"
   ],
   "metadata": {
    "collapsed": false
   },
   "id": "e035b088cc585c07"
  },
  {
   "cell_type": "code",
   "execution_count": null,
   "outputs": [],
   "source": [
    "umap_model = UMAP(n_neighbors=2, n_components=20, min_dist=0.01, spread=3, metric='cosine')"
   ],
   "metadata": {
    "collapsed": false
   },
   "id": "79434a3900255621"
  },
  {
   "cell_type": "markdown",
   "source": [
    "### Clustering"
   ],
   "metadata": {
    "collapsed": false
   },
   "id": "ac0721a9b8ed873a"
  },
  {
   "cell_type": "code",
   "execution_count": null,
   "outputs": [],
   "source": [
    "# hdbscan_model = HDBSCAN(min_cluster_size=15, metric='euclidean', cluster_selection_method='eom', prediction_data=True)\n",
    "# cluster_model = KMeans(n_clusters=20, random_state=42)\n",
    "cluster_model = AgglomerativeClustering(n_clusters=30, linkage='ward')"
   ],
   "metadata": {
    "collapsed": false
   },
   "id": "11643d3310452dbb"
  },
  {
   "cell_type": "markdown",
   "source": [
    "### Vectorizers"
   ],
   "metadata": {
    "collapsed": false
   },
   "id": "4b9d6139cc2206bc"
  },
  {
   "cell_type": "code",
   "execution_count": null,
   "outputs": [],
   "source": [
    "vectorizer_model = KeyphraseCountVectorizer(stop_words=stop_words)"
   ],
   "metadata": {
    "collapsed": false
   },
   "id": "602ae80d0e0993be"
  },
  {
   "cell_type": "markdown",
   "source": [
    "### cTF-IDF"
   ],
   "metadata": {
    "collapsed": false
   },
   "id": "af97cf4c6ecb7c6a"
  },
  {
   "cell_type": "code",
   "execution_count": null,
   "outputs": [],
   "source": [
    "ctfidf_model = ClassTfidfTransformer()"
   ],
   "metadata": {
    "collapsed": false
   },
   "id": "50f58da218ec8323"
  },
  {
   "cell_type": "markdown",
   "source": [
    "### Topic Model"
   ],
   "metadata": {
    "collapsed": false
   },
   "id": "5cbddc6b2de87b5f"
  },
  {
   "cell_type": "code",
   "execution_count": null,
   "outputs": [],
   "source": [
    "topic_model = BERTopic(\n",
    "\n",
    "    # Pipeline models\n",
    "    embedding_model=sentence_model,\n",
    "    umap_model=umap_model,\n",
    "    hdbscan_model=cluster_model,\n",
    "    vectorizer_model=vectorizer_model,\n",
    "\n",
    "    # Hyperparameters\n",
    "    top_n_words=30,\n",
    "    verbose=True\n",
    ")"
   ],
   "metadata": {
    "collapsed": false
   },
   "id": "3d8014ff409da5db"
  },
  {
   "cell_type": "code",
   "execution_count": null,
   "outputs": [],
   "source": [
    "# Train model\n",
    "topics, probs = topic_model.fit_transform(docs)"
   ],
   "metadata": {
    "collapsed": false
   },
   "id": "416be4aef8ffb08d"
  },
  {
   "cell_type": "code",
   "execution_count": null,
   "outputs": [],
   "source": [
    "# Fine-tune topic representations after training BERTopic\n",
    "vectorizer_model = KeyphraseCountVectorizer(stop_words=stop_words)\n",
    "topic_model.update_topics(docs, vectorizer_model=vectorizer_model)"
   ],
   "metadata": {
    "collapsed": false
   },
   "id": "222a2d66ae89fa3b"
  },
  {
   "cell_type": "code",
   "execution_count": null,
   "outputs": [],
   "source": [
    "# Show topics\n",
    "topic_model.get_topic_info()"
   ],
   "metadata": {
    "collapsed": false
   },
   "id": "468351fb7f011d52"
  },
  {
   "cell_type": "code",
   "execution_count": null,
   "outputs": [],
   "source": [
    "fig = topic_model.visualize_heatmap()\n",
    "# fig.write_html(\"matrix.html\")\n",
    "fig"
   ],
   "metadata": {
    "collapsed": false
   },
   "id": "95042085e57ee395"
  },
  {
   "cell_type": "code",
   "execution_count": null,
   "outputs": [],
   "source": [
    "fig = topic_model.visualize_topics()\n",
    "# fig.write_html(\"map.html\")\n",
    "fig"
   ],
   "metadata": {
    "collapsed": false
   },
   "id": "a7410170e13c37e6"
  },
  {
   "cell_type": "code",
   "execution_count": null,
   "outputs": [],
   "source": [
    "embeddings = sentence_model.encode(docs, show_progress_bar=False)\n",
    "\n",
    "fig = topic_model.visualize_documents(title, embeddings=embeddings, custom_labels=True, title=\"Course Clustering\")\n",
    "# fig.write_html(\"course_clustering.html\")\n",
    "fig"
   ],
   "metadata": {
    "collapsed": false
   },
   "id": "4f00fa562d14627d"
  },
  {
   "cell_type": "code",
   "execution_count": null,
   "outputs": [],
   "source": [
    "cluster = topic_model.fit_transform(docs, embeddings=embeddings)"
   ],
   "metadata": {
    "collapsed": false
   },
   "id": "318701c54867523c"
  },
  {
   "cell_type": "code",
   "execution_count": null,
   "outputs": [],
   "source": [
    "title_and_cluster = {}\n",
    "for index, i in enumerate(course_data):\n",
    "    title_and_cluster[course_data[i]['course_name']] = cluster[0][index]"
   ],
   "metadata": {
    "collapsed": false
   },
   "id": "31a82bb7946f14b4"
  },
  {
   "cell_type": "code",
   "execution_count": null,
   "outputs": [],
   "source": [
    "pyLDAvis.enable_notebook()\n",
    "\n",
    "tf_vectorizer = KeyphraseCountVectorizer(stop_words=stop_words)\n",
    "dtm_tf = tf_vectorizer.fit_transform(docs)\n",
    "lda_tf = LatentDirichletAllocation(n_components=20, random_state=0, max_iter=1000)\n",
    "lda_tf.fit(dtm_tf)\n",
    "fig = lda.prepare(lda_tf, dtm_tf, tf_vectorizer)\n",
    "fig"
   ],
   "metadata": {
    "collapsed": false
   },
   "id": "5fcfb10fe4fafeb4"
  },
  {
   "cell_type": "code",
   "execution_count": null,
   "outputs": [],
   "source": [
    "# pyLDAvis.save_html(fig, 'lda.html')"
   ],
   "metadata": {
    "collapsed": false
   },
   "id": "be5ef43297013156"
  },
  {
   "cell_type": "markdown",
   "source": [
    "# Keyword Extraction"
   ],
   "metadata": {
    "collapsed": false
   },
   "id": "e41c10ed4359223b"
  },
  {
   "cell_type": "code",
   "execution_count": null,
   "outputs": [],
   "source": [
    "# \"BAAI/bge-large-en-v1.5\"\n",
    "sentence_model = SentenceTransformer(\"BAAI/bge-large-en-v1.5\", device='cuda')\n",
    "vectorizer = KeyphraseCountVectorizer(stop_words=stop_words)\n",
    "kw_model = KeyBERT(model=sentence_model)"
   ],
   "metadata": {
    "collapsed": false
   },
   "id": "a2b3cce26fb50ab7"
  },
  {
   "cell_type": "code",
   "execution_count": null,
   "outputs": [],
   "source": [
    "def get_desc(code):\n",
    "    full_desc = course_data[code]['course_name'].lower() + '\\n'\n",
    "    full_desc += course_data[code]['description'].lower().replace('course', course_data[code]['course_name']) + '\\n'\n",
    "    full_desc += \" \".join(course_data[code]['ilos']).lower().replace('course', course_data[code]['course_name'])\n",
    "    return full_desc"
   ],
   "metadata": {
    "collapsed": false
   },
   "id": "4ffd9a3908becb16"
  },
  {
   "cell_type": "code",
   "execution_count": null,
   "outputs": [],
   "source": [
    "keywords_data = {}\n",
    "progress_bar = tqdm(range(len(course_data)))\n",
    "for i in course_data:\n",
    "    desc = get_desc(i)\n",
    "    keywords_data[i] = kw_model.extract_keywords(desc, vectorizer=vectorizer, top_n=30)\n",
    "    progress_bar.update(1)"
   ],
   "metadata": {
    "collapsed": false
   },
   "id": "ca51d39020fe0bd2"
  },
  {
   "cell_type": "code",
   "execution_count": null,
   "outputs": [],
   "source": [
    "new_keyword_data = {}\n",
    "nlp = spacy.load('en_core_web_trf')\n",
    "contextualSpellCheck.add_to_pipe(nlp)\n",
    "progress_bar = tqdm(range(len(keywords_data)))\n",
    "for i in keywords_data:\n",
    "    new_keyword_data[i] = []\n",
    "    for j in keywords_data[i]:\n",
    "        if j[0] in stop_words:\n",
    "            continue\n",
    "        if j[1] > 0.55:\n",
    "            doc = nlp(j[0])\n",
    "            k = j[0]\n",
    "            if doc._.performed_spellCheck:\n",
    "                k = doc._.outcome_spellCheck\n",
    "            doc = nlp(k)\n",
    "            k = \" \".join([token.lemma_ for token in doc])\n",
    "            new_keyword_data[i].append((k, j[1]))\n",
    "    progress_bar.update(1)"
   ],
   "metadata": {
    "collapsed": false
   },
   "id": "3b8c5664c02cebe2"
  },
  {
   "cell_type": "code",
   "execution_count": null,
   "outputs": [],
   "source": [
    "#load pickle\n",
    "import pickle\n",
    "with open('\\\\knowledge_graph\\\\keywords.pickle', 'rb') as handle:\n",
    "    new_keyword_data = pickle.load(handle)"
   ],
   "metadata": {
    "collapsed": false
   },
   "id": "322f3a2581f7bdbd"
  },
  {
   "cell_type": "code",
   "execution_count": null,
   "outputs": [],
   "source": [
    "progress_bar = tqdm(range(len(new_keyword_data)))\n",
    "for i in new_keyword_data:\n",
    "    tmp = []\n",
    "    for k, s in new_keyword_data[i]:\n",
    "        splits = k.split()\n",
    "        tmp_splits = []\n",
    "        for j in splits:\n",
    "            if j not in stop_words:\n",
    "                tmp_splits.append(j)\n",
    "        tmp.append((\" \".join(tmp_splits), s))\n",
    "    progress_bar.update(1)\n",
    "    new_keyword_data[i] = tmp"
   ],
   "metadata": {
    "collapsed": false
   },
   "id": "41294f763f6bd5ea"
  },
  {
   "cell_type": "code",
   "execution_count": null,
   "outputs": [],
   "source": [
    "final_keywords = {}\n",
    "progress_bar = tqdm(range(len(new_keyword_data)))\n",
    "for i in new_keyword_data:\n",
    "    final_keywords[i] = []\n",
    "    for j in new_keyword_data[i]:\n",
    "        final_keywords[i].append(j[0])\n",
    "    progress_bar.update(1)\n",
    "    final_keywords[i] = list(set(final_keywords[i]))"
   ],
   "metadata": {
    "collapsed": false
   },
   "id": "18a00609fe74b570"
  },
  {
   "cell_type": "code",
   "execution_count": null,
   "outputs": [],
   "source": [
    "keywords_list = []\n",
    "for i in final_keywords:\n",
    "    for j in final_keywords[i]:\n",
    "        keywords_list.append(j)\n",
    "keywords_list = list(set(keywords_list))\n",
    "print(len(keywords_list))"
   ],
   "metadata": {
    "collapsed": false
   },
   "id": "b594296e994782cf"
  },
  {
   "cell_type": "code",
   "execution_count": null,
   "outputs": [],
   "source": [
    "keywords_list_emb = sentence_model.encode(keywords_list)\n",
    "full_desc = []\n",
    "for prog, i in enumerate(final_keywords):\n",
    "    desc = get_desc(i)\n",
    "    full_desc.append(desc)\n",
    "full_desc_emb = sentence_model.encode(full_desc)"
   ],
   "metadata": {
    "collapsed": false
   },
   "id": "64ec81cc2ed23f33"
  },
  {
   "cell_type": "code",
   "execution_count": null,
   "outputs": [],
   "source": [
    "progress_bar = tqdm(range(len(final_keywords)))\n",
    "for prog, i in enumerate(final_keywords):\n",
    "    desc = get_desc(i)\n",
    "    emb = full_desc_emb[prog].reshape(1, -1)\n",
    "    for index, k in enumerate(keywords_list):\n",
    "        results = cosine_similarity(emb, keywords_list_emb[index].reshape(1, -1))[0][0]\n",
    "        if results > 0.70:\n",
    "            final_keywords[i].append(k)\n",
    "    progress_bar.update(1)\n"
   ],
   "metadata": {
    "collapsed": false
   },
   "id": "51f2802e971bd689"
  },
  {
   "cell_type": "code",
   "execution_count": null,
   "outputs": [],
   "source": [
    "for i in final_keywords:\n",
    "    final_keywords[i] = list(set(final_keywords[i]))"
   ],
   "metadata": {
    "collapsed": false
   },
   "id": "38bb1443e56ca955"
  },
  {
   "cell_type": "code",
   "execution_count": null,
   "outputs": [],
   "source": [
    "keywords_key = {}\n",
    "progress_bar = tqdm(range(len(keywords_list)))\n",
    "for prog, i in enumerate(keywords_list):\n",
    "    keywords_key[i] = []\n",
    "    emb = keywords_list_emb[prog].reshape(1, -1)\n",
    "    for index, k in enumerate(keywords_list):\n",
    "        emb2 = keywords_list_emb[index].reshape(1, -1)\n",
    "        results = cosine_similarity(emb, emb2)[0][0]\n",
    "        if results > 0.70 and k != i:\n",
    "            keywords_key[i].append(k)\n",
    "    progress_bar.update(1)\n"
   ],
   "metadata": {
    "collapsed": false
   },
   "id": "1b4ecfe82876da0d"
  },
  {
   "cell_type": "code",
   "execution_count": null,
   "outputs": [],
   "source": [
    "df = pd.DataFrame(columns=['node_1', 'node_2', 'sim', 'course'])"
   ],
   "metadata": {
    "collapsed": false
   },
   "id": "4ead3c25ac2d72a3"
  },
  {
   "cell_type": "code",
   "execution_count": null,
   "outputs": [],
   "source": [
    "count = 0\n",
    "progress_bar = tqdm(range(len(final_keywords)))\n",
    "for x, i in enumerate(final_keywords):\n",
    "    title = course_data[i]['course_name']\n",
    "    for k in final_keywords[i]:\n",
    "        # Find index of k in keywords_list\n",
    "        index = keywords_list.index(k)\n",
    "        sim = cosine_similarity(full_desc_emb[x].reshape(1, -1), keywords_list_emb[index].reshape(1, -1))[0][0]\n",
    "        df.loc[count] = [title, k, sim, True]\n",
    "        count += 1\n",
    "    progress_bar.update(1)\n",
    "df = df[df['sim'] > 0.50]"
   ],
   "metadata": {
    "collapsed": false
   },
   "id": "404e4048d9a0b78a"
  },
  {
   "cell_type": "code",
   "execution_count": null,
   "outputs": [],
   "source": [
    "# A lot of connection ()\n",
    "# progress_bar = tqdm(range(len(keywords_key)))\n",
    "# for i in keywords_key:\n",
    "#     index_i = keywords_list.index(i)\n",
    "#     for j in keywords_key[i]:\n",
    "#         index_j = keywords_list.index(j)\n",
    "#         sim = cosine_similarity(keywords_list_emb[index_i].reshape(1, -1), keywords_list_emb[index_j].reshape(1, -1))[0][0]\n",
    "#         df.loc[count] = [i, j, sim, False]\n",
    "#         count += 1\n",
    "#     progress_bar.update(1)"
   ],
   "metadata": {
    "collapsed": false
   },
   "id": "adfeeefa2e143f5f"
  },
  {
   "cell_type": "code",
   "execution_count": null,
   "outputs": [],
   "source": [
    "progress_bar = tqdm(range(len(final_keywords)))\n",
    "for x, i in enumerate(final_keywords):\n",
    "    title_x = course_data[i]['course_name']\n",
    "    for y, j in enumerate(final_keywords):\n",
    "        if x == y:\n",
    "            continue\n",
    "        # Find index of k in keywords_list\n",
    "        title_y = course_data[j]['course_name']\n",
    "        \n",
    "        sim = cosine_similarity(full_desc_emb[x].reshape(1, -1), full_desc_emb[y].reshape(1, -1))[0][0]\n",
    "        if sim > 0.66:\n",
    "            df.loc[count] = [title_x, title_y, sim, True]\n",
    "            count += 1\n",
    "    progress_bar.update(1)"
   ],
   "metadata": {
    "collapsed": false
   },
   "id": "5b7d0cd535d7ba0"
  },
  {
   "cell_type": "code",
   "execution_count": null,
   "outputs": [],
   "source": [
    "#load dataframe\n",
    "df = pd.read_csv('\\\\knowledge_graph\\\\keywords_small.csv')"
   ],
   "metadata": {
    "collapsed": false
   },
   "id": "f737fd9d9d356fc0"
  },
  {
   "cell_type": "markdown",
   "source": [
    "# Knowledge Graph"
   ],
   "metadata": {
    "collapsed": false
   },
   "id": "b1df578f2f3a2664"
  },
  {
   "cell_type": "code",
   "execution_count": null,
   "outputs": [],
   "source": [
    "NUM_COLORS = 30\n",
    "\n",
    "cm = plt.get_cmap('gist_rainbow')\n",
    "fig = plt.figure()\n",
    "ax = fig.add_subplot(111)\n",
    "ax.set_prop_cycle(color=[cm(1.*i/NUM_COLORS) for i in range(NUM_COLORS)])\n",
    "for i in range(NUM_COLORS):\n",
    "    ax.plot(np.arange(10)*(i+1))\n",
    "\n",
    "plt.show()"
   ],
   "metadata": {
    "collapsed": false
   },
   "id": "c5d2c7539ea1de04"
  },
  {
   "cell_type": "code",
   "execution_count": null,
   "outputs": [],
   "source": [
    "nodes = pd.concat([df['node_1'], df['node_2']], axis=0).unique()\n",
    "nodes.shape"
   ],
   "metadata": {
    "collapsed": false
   },
   "id": "674c27da67aa3d19"
  },
  {
   "cell_type": "code",
   "execution_count": null,
   "outputs": [],
   "source": [
    "import networkx as nx\n",
    "G = nx.Graph()\n",
    "\n",
    "## Add nodes to the graph\n",
    "for node in nodes:\n",
    "    G.add_node(\n",
    "        str(node)\n",
    "    )\n",
    "\n",
    "## Add edges to the graph\n",
    "for index, row in df.iterrows():\n",
    "    G.add_edge(\n",
    "        str(row[\"node_1\"]),\n",
    "        str(row[\"node_2\"]),\n",
    "        weight=row['sim'],\n",
    "        title=row[\"sim\"]\n",
    "    )"
   ],
   "metadata": {
    "collapsed": false
   },
   "id": "aff8f4055c8d52cc"
  },
  {
   "cell_type": "code",
   "execution_count": null,
   "outputs": [],
   "source": [
    "title_and_cluster"
   ],
   "metadata": {
    "collapsed": false
   },
   "id": "e3a33fc1b857aa0"
  },
  {
   "cell_type": "code",
   "execution_count": null,
   "outputs": [],
   "source": [
    "# Create communities\n",
    "communities = [set() for _ in range(31)]\n",
    "for index, row in df.iterrows():\n",
    "    if row['node_1'] in title_and_cluster:\n",
    "        communities[title_and_cluster[row['node_1']]].add(row['node_1'])\n",
    "    else:\n",
    "        communities[30].add(row['node_1'])\n",
    "        \n",
    "    if row['node_2'] in title_and_cluster:\n",
    "        communities[title_and_cluster[row['node_2']]].add(row['node_2'])\n",
    "    else:\n",
    "        communities[30].add(row['node_2'])\n",
    "communities    "
   ],
   "metadata": {
    "collapsed": false
   },
   "id": "64919f86288490e4"
  },
  {
   "cell_type": "code",
   "execution_count": null,
   "outputs": [],
   "source": [
    "len(communities)"
   ],
   "metadata": {
    "collapsed": false
   },
   "id": "71b1ab6f6145036b"
  },
  {
   "cell_type": "code",
   "execution_count": null,
   "outputs": [],
   "source": [
    "## Now add these colors to communities and make another dataframe\n",
    "def colors2Community(communities, NUM_COLORS) -> pd.DataFrame:\n",
    "    ## Define a color palette\n",
    "    p = [cm(1.*i/NUM_COLORS) for i in range(NUM_COLORS)]\n",
    "    rows = []\n",
    "    group = 0\n",
    "    for community in communities:\n",
    "        if group == 30:\n",
    "            color = \"lightgrey\"\n",
    "        else:\n",
    "            color = p.pop()\n",
    "        group += 1\n",
    "        print(group)\n",
    "        for node in community:\n",
    "            rows += [{\"node\": node, \"color\": color, \"group\": group}]\n",
    "    df_colors = pd.DataFrame(rows)\n",
    "    return df_colors\n",
    "\n",
    "\n",
    "colors = colors2Community(communities, 30)\n",
    "colors"
   ],
   "metadata": {
    "collapsed": false
   },
   "id": "cbfe48c84d6fe583"
  },
  {
   "cell_type": "code",
   "execution_count": null,
   "outputs": [],
   "source": [
    "for index, row in colors.iterrows():\n",
    "    G.nodes[row['node']]['group'] = row['group']\n",
    "    G.nodes[row['node']]['color'] = row['color']\n",
    "    G.nodes[row['node']]['size'] = G.degree[row['node']]"
   ],
   "metadata": {
    "collapsed": false
   },
   "id": "7358f834a55fa178"
  },
  {
   "cell_type": "code",
   "execution_count": null,
   "outputs": [],
   "source": [
    "from pyvis.network import Network\n",
    "\n",
    "graph_output_directory = \"index_x.html\"\n",
    "\n",
    "net = Network(\n",
    "    notebook=False,\n",
    "    # bgcolor=\"#1a1a1a\",\n",
    "    cdn_resources=\"remote\",\n",
    "    height=\"900px\",\n",
    "    width=\"100%\",\n",
    "    select_menu=True,\n",
    "    # font_color=\"#cccccc\",\n",
    "    filter_menu=False,\n",
    ")\n",
    "\n",
    "net.from_nx(G)\n",
    "net.repulsion(node_distance=150, spring_length=400)\n",
    "# net.force_atlas_2based(central_gravity=-1, gravity=-51)\n",
    "# net.barnes_hut(gravity=-18100, central_gravity=5.05, spring_length=380)\n",
    "net.show_buttons(filter_=[\"physics\"])\n",
    "net.toggle_physics(False)\n",
    "\n",
    "net.show(graph_output_directory, local=False)"
   ],
   "metadata": {
    "collapsed": false
   },
   "id": "cd1d4315fa569c36"
  },
  {
   "cell_type": "code",
   "execution_count": null,
   "outputs": [],
   "source": [],
   "metadata": {
    "collapsed": false
   },
   "id": "550c3fe71de51f94"
  }
 ],
 "metadata": {
  "kernelspec": {
   "display_name": "Python 3",
   "language": "python",
   "name": "python3"
  },
  "language_info": {
   "codemirror_mode": {
    "name": "ipython",
    "version": 2
   },
   "file_extension": ".py",
   "mimetype": "text/x-python",
   "name": "python",
   "nbconvert_exporter": "python",
   "pygments_lexer": "ipython2",
   "version": "2.7.6"
  }
 },
 "nbformat": 4,
 "nbformat_minor": 5
}
