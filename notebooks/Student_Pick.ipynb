{
 "cells": [
  {
   "cell_type": "code",
   "execution_count": null,
   "outputs": [],
   "source": [
    "import pandas as pd"
   ],
   "metadata": {
    "collapsed": false
   },
   "id": "47baa4f1b4c9fbb3"
  },
  {
   "cell_type": "code",
   "execution_count": null,
   "outputs": [],
   "source": [
    "import os\n",
    "os.chdir(os.getcwd().replace(\"\\\\notebooks\", \"\"))"
   ],
   "metadata": {
    "collapsed": false
   },
   "id": "d5490fd1c8b0ae65"
  },
  {
   "cell_type": "code",
   "execution_count": null,
   "outputs": [],
   "source": [
    "student_data = pd.read_csv('rec_sys_uni/datasets/data/student/student_data.csv')\n",
    "# Convert 'appraisal_date' to datetime for comparison\n",
    "student_data['appraisal_date'] = pd.to_datetime(student_data['appraisal_date'])"
   ],
   "metadata": {
    "collapsed": false
   },
   "id": "initial_id"
  },
  {
   "cell_type": "code",
   "execution_count": null,
   "outputs": [],
   "source": [
    "# Select one student from 2022 which take courses only in 2022 and did not appear in previous years\n",
    "new_students = student_data[student_data['appraisal_date'] > '2022-08-30']\n",
    "old_students = student_data[student_data['appraisal_date'] < '2022-08-30']\n",
    "new_students = new_students[~new_students['student_num'].isin(old_students['student_num'])]\n",
    "new_students"
   ],
   "metadata": {
    "collapsed": false
   },
   "id": "90ca2aec857f99b1"
  },
  {
   "cell_type": "code",
   "execution_count": null,
   "outputs": [],
   "source": [
    "# Pick average student by grade and also count of courses\n",
    "new_students = new_students.groupby('student_num').agg({'grade': 'mean', 'module_abb': 'count'})\n",
    "new_students"
   ],
   "metadata": {
    "collapsed": false
   },
   "id": "9256226a1706101"
  },
  {
   "cell_type": "code",
   "execution_count": null,
   "outputs": [],
   "source": [
    "# Pick student\n",
    "student = student_data[student_data['module_abb'] == \"SCI2018\"]\n",
    "student = student[student['student_num'].isin(new_students.index)]\n",
    "student"
   ],
   "metadata": {
    "collapsed": false
   },
   "id": "c2968090062b1cfd"
  },
  {
   "cell_type": "code",
   "execution_count": null,
   "outputs": [],
   "source": [
    "student = student_data[student_data['student_num'] == 24759684]"
   ],
   "metadata": {
    "collapsed": false
   },
   "id": "aeb7d8c0d1c97b96"
  },
  {
   "cell_type": "code",
   "execution_count": null,
   "outputs": [],
   "source": [
    "# remove dublicates\n",
    "student = student.drop_duplicates(subset=['module_abb'], keep='last')\n",
    "student"
   ],
   "metadata": {
    "collapsed": false
   },
   "id": "cb52078155b0376c"
  },
  {
   "cell_type": "code",
   "execution_count": null,
   "outputs": [],
   "source": [
    "\"\"\"\n",
    "student_data : dictionary  {\n",
    "                                                courses_taken:\n",
    "                                                    {\n",
    "                                                        course_id(String):\n",
    "                                                                            {\n",
    "                                                                                passed: boolean,\n",
    "                                                                                grade: float,\n",
    "                                                                                period: int or [from, to],\n",
    "                                                                                year: int\n",
    "                                                                            },\n",
    "                                                        ...\n",
    "                                                    }\n",
    "                                                }\n",
    "\"\"\"\n",
    "student_json = {'courses_taken': {}}\n",
    "for i in range(len(student)):\n",
    "    module_abb = student['module_abb'].values[i]\n",
    "    passed = student['pass'].values[i]\n",
    "    grade = student['grade'].values[i]\n",
    "    appraisal_date = pd.to_datetime(student['appraisal_date'].values[i])\n",
    "    year = appraisal_date.year\n",
    "    month = appraisal_date.month\n",
    "\n",
    "    student_json['courses_taken'][module_abb] = {\n",
    "        'passed': bool(passed == 1),\n",
    "        'grade': float(grade),\n",
    "        'year': year\n",
    "    }\n",
    "\n",
    "    if month == 11:\n",
    "        period = 1\n",
    "    elif month == 12:\n",
    "        period = 2\n",
    "    elif month == 3:\n",
    "        period = 4\n",
    "    elif month == 6:\n",
    "        period = 5\n",
    "    else:\n",
    "        period = student['period'].values[i]  # Default case if month doesn't match\n",
    "\n",
    "    student_json['courses_taken'][module_abb]['period'] = period\n",
    "\n",
    "student_json"
   ],
   "metadata": {
    "collapsed": false
   },
   "id": "d83ab2abf264cfd1"
  },
  {
   "cell_type": "code",
   "execution_count": null,
   "outputs": [],
   "source": [
    "student_json\n",
    "# Save student data in json file\n",
    "# Serializing json\n",
    "import json\n",
    "\n",
    "json_object = json.dumps(student_json, indent=4)\n",
    "with open('student.json', 'w') as fp:\n",
    "    fp.write(json_object)"
   ],
   "metadata": {
    "collapsed": false
   },
   "id": "f53914afceab256d"
  }
 ],
 "metadata": {
  "kernelspec": {
   "display_name": "Python 3",
   "language": "python",
   "name": "python3"
  },
  "language_info": {
   "codemirror_mode": {
    "name": "ipython",
    "version": 2
   },
   "file_extension": ".py",
   "mimetype": "text/x-python",
   "name": "python",
   "nbconvert_exporter": "python",
   "pygments_lexer": "ipython2",
   "version": "2.7.6"
  }
 },
 "nbformat": 4,
 "nbformat_minor": 5
}
